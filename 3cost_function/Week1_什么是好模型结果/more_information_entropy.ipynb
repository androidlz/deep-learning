{
 "cells": [
  {
   "cell_type": "markdown",
   "metadata": {},
   "source": [
    "### 继续来编码\n",
    "\n",
    "* 发送字母**A,B,C,D**,字母出现的概率是一样的(1/4),用数字信号（010101110001010）发送出去，所需平均最短信号bits长度是多少？"
   ]
  },
  {
   "cell_type": "markdown",
   "metadata": {},
   "source": [
    "* A = 00\n",
    "* B = 01\n",
    "* C = 10\n",
    "* D = 11"
   ]
  },
  {
   "cell_type": "markdown",
   "metadata": {},
   "source": [
    "* 如果ABCD字母出现的概率不一样, 如何编码，让所需平均最短信号bits长度最短？\n",
    "    * p(x=A) = 1/2\n",
    "    * p(x=B) = 1/4\n",
    "    * p(x=C) = 1/8\n",
    "    * p(x=D) = 1/8"
   ]
  },
  {
   "cell_type": "markdown",
   "metadata": {},
   "source": [
    "* 最短可达平均1.75bits／字母\n",
    "    * A = 00\n",
    "    * B = 10\n",
    "    * C = 110\n",
    "    * D = 111\n",
    "     \n",
    "   $ 1/2 \\times 2 + 1/4 \\times 2 + 1/8 \\times 3 + 1/8 \\times 3 = 1.75 bits/letter$\n",
    "   \n",
    "   $ entropy = -\\sum_i^n p(y_i)\\log p(y_i)$"
   ]
  },
  {
   "cell_type": "markdown",
   "metadata": {},
   "source": [
    "#### 如何比较不同分布\n",
    "* Kullback-Leibler-divergence\n",
    "\n",
    "[参考资料1](https://rdipietro.github.io/friendly-intro-to-cross-entropy-loss/)\n",
    "[参考资料2](https://www.countbayesie.com/blog/2017/5/9/kullback-leibler-divergence-explained)"
   ]
  },
  {
   "cell_type": "markdown",
   "metadata": {},
   "source": [
    "\\begin{equation*}\n",
    "P[data|model] := y_1^{k_1}y_2^{k_2}\\dots y_n^{k_n}\n",
    "\\end{equation*}"
   ]
  },
  {
   "cell_type": "code",
   "execution_count": null,
   "metadata": {
    "collapsed": true
   },
   "outputs": [],
   "source": []
  }
 ],
 "metadata": {
  "kernelspec": {
   "display_name": "Python 3",
   "language": "python",
   "name": "python3"
  },
  "language_info": {
   "codemirror_mode": {
    "name": "ipython",
    "version": 3
   },
   "file_extension": ".py",
   "mimetype": "text/x-python",
   "name": "python",
   "nbconvert_exporter": "python",
   "pygments_lexer": "ipython3",
   "version": "3.6.3"
  }
 },
 "nbformat": 4,
 "nbformat_minor": 2
}
