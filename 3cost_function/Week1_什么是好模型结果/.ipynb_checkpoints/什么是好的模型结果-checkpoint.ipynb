{
 "cells": [
  {
   "cell_type": "markdown",
   "metadata": {},
   "source": [
    "# 监督学习：什么是好的模型结果？ Cost Function\n",
    "# 有时间的话再讨论 - imbalanced 样本不均衡问题"
   ]
  },
  {
   "cell_type": "code",
   "execution_count": null,
   "metadata": {
    "collapsed": true
   },
   "outputs": [],
   "source": []
  },
  {
   "cell_type": "markdown",
   "metadata": {},
   "source": [
    "今天的内容比较多，多半是理论的讲解，我们需要大家好好听\n",
    "\n",
    "1. <span style=\"color:blue\">连续变量</span>的模型，如何来衡量模型结果？\n",
    "2. <span style=\"color:blue\">二分类</span>问题\n",
    "    * 假设检验，p-value\n",
    "    * confusion matrix\n",
    "    * 召回率，准确率\n",
    "    * F1-score\n",
    "    * ROC & AUC\n",
    "3. <span style=\"color:blue\">分类模型</span>，如何衡量模型结果？\n",
    "4. <span style=\"color:blue\">imbalanced</span>问题"
   ]
  },
  {
   "cell_type": "code",
   "execution_count": null,
   "metadata": {
    "collapsed": true
   },
   "outputs": [],
   "source": []
  },
  {
   "cell_type": "markdown",
   "metadata": {},
   "source": [
    "## 1. 如何定义一个模型结果的好坏？"
   ]
  },
  {
   "cell_type": "markdown",
   "metadata": {},
   "source": [
    "100%完美?\n",
    "<img src='./perfect.png'>"
   ]
  },
  {
   "cell_type": "markdown",
   "metadata": {},
   "source": [
    "绝大部分情况下是这种\n",
    "<img src='linear.png'>\n",
    "\n",
    "和这种\n",
    "<img src='scatterplot_skin_cancer.png'>\n",
    "\n"
   ]
  },
  {
   "cell_type": "markdown",
   "metadata": {},
   "source": [
    "或者这种\n",
    "<img src='Logistic Regression.png'>"
   ]
  },
  {
   "cell_type": "markdown",
   "metadata": {
    "collapsed": true
   },
   "source": [
    "#### 这叫什么？\n",
    "> **幸福的家庭都一样，不幸的家庭各有各的不幸**\n",
    "\n"
   ]
  },
  {
   "cell_type": "code",
   "execution_count": null,
   "metadata": {
    "collapsed": true
   },
   "outputs": [],
   "source": []
  },
  {
   "cell_type": "code",
   "execution_count": null,
   "metadata": {
    "collapsed": true
   },
   "outputs": [],
   "source": []
  },
  {
   "cell_type": "code",
   "execution_count": null,
   "metadata": {
    "collapsed": true
   },
   "outputs": [],
   "source": []
  },
  {
   "cell_type": "code",
   "execution_count": null,
   "metadata": {
    "collapsed": true
   },
   "outputs": [],
   "source": []
  },
  {
   "cell_type": "markdown",
   "metadata": {},
   "source": [
    "面对着各种不幸的模型结果，除了表示默哀以外，还要狠下心来，仔细比较一番\n",
    "#### 这叫什么？\n",
    "> **比惨**"
   ]
  },
  {
   "cell_type": "markdown",
   "metadata": {},
   "source": [
    "<img src='wangcai.jpg'>"
   ]
  },
  {
   "cell_type": "markdown",
   "metadata": {},
   "source": [
    "<img src='xiaoqiang.jpg'>"
   ]
  },
  {
   "cell_type": "markdown",
   "metadata": {},
   "source": [
    "<img src='bican.gif'>"
   ]
  },
  {
   "cell_type": "code",
   "execution_count": null,
   "metadata": {
    "collapsed": true
   },
   "outputs": [],
   "source": []
  },
  {
   "cell_type": "markdown",
   "metadata": {},
   "source": [
    "## 2. 连续变量的模型，如何来衡量模型结果？\n",
    "* 距离\n",
    "* 残差\n",
    "* sum of squares Error: SSE 残差平方和\n",
    "* sum of squares for regression: SSR 回归平方和\n",
    "* total sum of squares: SST 总偏差平方和\n"
   ]
  },
  {
   "cell_type": "markdown",
   "metadata": {},
   "source": [
    "<img src='SSESSRSST.png'>"
   ]
  },
  {
   "cell_type": "markdown",
   "metadata": {},
   "source": [
    "\\begin{equation*}\n",
    "\\sum (y_i - \\hat{y}_i) = SSE \\\\\n",
    "\\sum (\\hat{y}_i - \\bar{y})^2 = SSR \\\\\n",
    "\\sum (y_i - \\bar{y})^2 = SST\n",
    "\\end{equation*}"
   ]
  },
  {
   "cell_type": "markdown",
   "metadata": {},
   "source": [
    "* 证明\n",
    "\\begin{equation*}\n",
    "SST = SSE + SSR\n",
    "\\end{equation*}"
   ]
  },
  {
   "cell_type": "markdown",
   "metadata": {},
   "source": [
    "* 误差 vs 残差"
   ]
  },
  {
   "cell_type": "markdown",
   "metadata": {},
   "source": [
    "* $R^2$是什么？   回归直线的效用\n",
    "\n",
    "    * 样本的总偏差平方和中，被回归平方和解释的百分比\n",
    "\\begin{equation*}\n",
    "R^2 = \\frac{SSR}{SST} = 1-\\frac{SSE}{SST}\n",
    "\\end{equation*}"
   ]
  },
  {
   "cell_type": "code",
   "execution_count": null,
   "metadata": {
    "collapsed": true
   },
   "outputs": [],
   "source": [
    "ssR占得比列特别大  就说样本中间的varies 解释的很好   "
   ]
  },
  {
   "cell_type": "code",
   "execution_count": null,
   "metadata": {
    "collapsed": true
   },
   "outputs": [],
   "source": []
  },
  {
   "cell_type": "markdown",
   "metadata": {},
   "source": [
    "## 3. 二分类问题\n",
    "1. 假设检验\n",
    "* 原假设，事件，事件的概率分布\n",
    "* p-value： <span style=\"color:blue\">** 在原假设成立时，出现观测值以及更极端情况的概率**</span>\n",
    "* 备择假设\n",
    "* Threshold分类阈值\n",
    "* 设立分类阈值的结果：第一类错误(假阳性)：**弃真**，第二类错误：**存伪**\n",
    "* 定义阈值的分类效果：显著性水平 $\\alpha$   \n",
    "* $\\alpha,第一类错误 \\ \\beta  第二类错误, 1-\\beta \\  （true-positive） ,\\ or \\ power$\n",
    "* ROC曲线以及其性质: 0.横纵坐标，1. 一般来说面积>0.5, 2. 斜率为正 （$\\alpha$ 和 power同增同减）\n",
    "* 什么样的ROC曲线更好？   离45度线近的不好   离45度线远的好\n",
    "* ROC曲线历史\n",
    "* confusion matrix：弃真存伪\n",
    "* 召回率，准确率\n",
    "* F1-score\n",
    "\n"
   ]
  },
  {
   "cell_type": "markdown",
   "metadata": {},
   "source": [
    "[看pdf](./Binary_Metrix.pdf)"
   ]
  },
  {
   "cell_type": "markdown",
   "metadata": {},
   "source": [
    "练习 ** measure **"
   ]
  },
  {
   "cell_type": "code",
   "execution_count": null,
   "metadata": {
    "collapsed": true
   },
   "outputs": [],
   "source": [
    "显著性水平（单个预值分类的不确定性） 0.05    Roc整体衡量的有效性 "
   ]
  },
  {
   "cell_type": "code",
   "execution_count": null,
   "metadata": {
    "collapsed": true
   },
   "outputs": [],
   "source": []
  },
  {
   "cell_type": "code",
   "execution_count": null,
   "metadata": {
    "collapsed": true
   },
   "outputs": [],
   "source": []
  },
  {
   "cell_type": "markdown",
   "metadata": {},
   "source": [
    "## 4. 多分类模型，如何衡量模型结果？\n",
    "* 直观上不容易像连续变量一样定义每个预测值离观测值的距离(欧几里得距离）\n",
    "* 多分类时，多用cross-entropy 来衡量分类的结果"
   ]
  },
  {
   "cell_type": "markdown",
   "metadata": {},
   "source": [
    "<img src='./classification.png'>"
   ]
  },
  {
   "cell_type": "code",
   "execution_count": null,
   "metadata": {
    "collapsed": true
   },
   "outputs": [],
   "source": []
  },
  {
   "cell_type": "code",
   "execution_count": null,
   "metadata": {
    "collapsed": true
   },
   "outputs": [],
   "source": []
  },
  {
   "cell_type": "markdown",
   "metadata": {
    "collapsed": true
   },
   "source": [
    "\n",
    "* 借鉴信息熵 $\\sum_i^K p(y_i)\\log p(y_i)$\n",
    "    * 将信息（在这里的信息是一个概率分布）编码，所需的最小平均bits长度\n"
   ]
  },
  {
   "cell_type": "code",
   "execution_count": null,
   "metadata": {
    "collapsed": true
   },
   "outputs": [],
   "source": []
  },
  {
   "cell_type": "markdown",
   "metadata": {},
   "source": [
    "<img src='coins.jpg',width=300>"
   ]
  },
  {
   "cell_type": "markdown",
   "metadata": {},
   "source": [
    "* **问题来了** \n",
    "    * 扔硬币，如果硬币正反面概率相同，信息熵是多少？\n",
    "    * 如果只有正面，信息熵是多少？\n",
    "    "
   ]
  },
  {
   "cell_type": "code",
   "execution_count": null,
   "metadata": {
    "collapsed": true
   },
   "outputs": [],
   "source": []
  },
  {
   "cell_type": "markdown",
   "metadata": {},
   "source": [
    " $ entropy = -\\sum_i^K p(y_i)\\log p(y_i)$\n",
    " \n",
    " $ H(Y) = -p(y=0)\\log p(y=0) - p(y=1)\\log p(y=1)$"
   ]
  },
  {
   "cell_type": "code",
   "execution_count": null,
   "metadata": {
    "collapsed": true
   },
   "outputs": [],
   "source": []
  },
  {
   "cell_type": "markdown",
   "metadata": {},
   "source": [
    "* 信息熵的特点：\n",
    "    * 衡量混乱程度，信息熵越大，越混乱\n",
    "    * 什么叫混乱？\n",
    "        * $p(positive)=0,p(negative)=1$\n",
    "        * $p(positive)=0.5,p(negative)=0.5$"
   ]
  },
  {
   "cell_type": "code",
   "execution_count": null,
   "metadata": {
    "collapsed": true
   },
   "outputs": [],
   "source": []
  },
  {
   "cell_type": "markdown",
   "metadata": {},
   "source": [
    "* 在分类问题中(classification)\n",
    "    * 观测到的每个样本可以属于多种（K个）类别，$y_i$ ， i = 1,2,3,...K\n",
    "    * 用模型预测出来的每种类别，出现的概率，$q(\\hat{y}_i=k)$\n",
    "* cross-entropy \n",
    "    * $cross\\_entropy = -1/n(\\sum_i^n I(y_i==1)\\log q(\\hat{y}_i=1) + ... + I(y_i==K)\\log q(\\hat{y}_i=K)$)\n",
    "    * n为样本量， I是指示函数，当 $y_i=k$为真时，$I(y_i==k)$值为1\n",
    "    \n",
    "\n",
    "* 二分类时\n",
    "    * cross_entropy为 $-1/n(\\sum_i^n I(y_i=0)\\log q(\\hat{y}_i=0) + I(y_i=1)\\log q(\\hat{y}_i=1)$)\n",
    "    \n",
    "    * 再简化一点， **$-1/n(\\sum_i^n y_i\\log \\hat{q}_i + (1-y_i)\\log (1-\\hat{q}_i))$**\n",
    "\n",
    "* 一个案例来算一算二分类的cross-entropy"
   ]
  },
  {
   "cell_type": "code",
   "execution_count": 4,
   "metadata": {
    "collapsed": true
   },
   "outputs": [],
   "source": [
    "import numpy as np\n",
    "A = np.array([0,  0,  1,  1,  1,  0,  0,  0,  0,  1,  0,  1  ])\n",
    "q = np.array([0.1,0.2,0.8,0.9,0.7,0.1,0.1,0.2,0.3,0.9,0.6,0.5])\n",
    "n = len(A)"
   ]
  },
  {
   "cell_type": "code",
   "execution_count": 7,
   "metadata": {},
   "outputs": [
    {
     "name": "stdout",
     "output_type": "stream",
     "text": [
      "cross_entropy =  0.293251752712\n"
     ]
    }
   ],
   "source": [
    "cross_entropy = -1/n*(np.sum(A*np.log(q))+np.sum((1-A)*np.log((1-q))))\n",
    "print('cross_entropy = ',cross_entropy)"
   ]
  },
  {
   "cell_type": "code",
   "execution_count": 8,
   "metadata": {},
   "outputs": [
    {
     "name": "stdout",
     "output_type": "stream",
     "text": [
      "cross_entropy =  0.293251752712\n"
     ]
    }
   ],
   "source": [
    "cross_entropy = -1/n*(np.dot(A,np.log(q))+np.dot((1-A),np.log((1-q))))\n",
    "print('cross_entropy = ',cross_entropy)"
   ]
  },
  {
   "cell_type": "code",
   "execution_count": null,
   "metadata": {
    "collapsed": true
   },
   "outputs": [],
   "source": []
  },
  {
   "cell_type": "code",
   "execution_count": null,
   "metadata": {
    "collapsed": true
   },
   "outputs": [],
   "source": []
  },
  {
   "cell_type": "code",
   "execution_count": null,
   "metadata": {
    "collapsed": true
   },
   "outputs": [],
   "source": []
  },
  {
   "cell_type": "markdown",
   "metadata": {},
   "source": [
    "* 本周我们讲 logistic regression时，要从 maximum-likelyhood推出 cross_entropy\n"
   ]
  },
  {
   "cell_type": "code",
   "execution_count": null,
   "metadata": {
    "collapsed": true
   },
   "outputs": [],
   "source": []
  },
  {
   "cell_type": "code",
   "execution_count": null,
   "metadata": {
    "collapsed": true
   },
   "outputs": [],
   "source": []
  },
  {
   "cell_type": "markdown",
   "metadata": {},
   "source": [
    "## 5. imbalanced问题"
   ]
  },
  {
   "cell_type": "markdown",
   "metadata": {},
   "source": [
    "* imbalance data就是指正负样本数量相差太大，一类占10%甚至1%以下，另外一类占绝大多数，这对机器学习算法是个现实的挑战。\n",
    "\n",
    "* 用什么样的衡量方式？不能光看accuracy\n",
    "\n",
    "* 1000个样本，大多数（980）都属于负样本，正样本只有20个，算法容易被负样本带偏。\n",
    "\n",
    "* 传统方法（决策树，逻辑回归）倾向于预测样本量大的类别，小样本就被认为是<span style='color:blue'>**噪音**</span>，被忽略了\n",
    "\n"
   ]
  },
  {
   "cell_type": "code",
   "execution_count": null,
   "metadata": {
    "collapsed": true
   },
   "outputs": [],
   "source": []
  },
  {
   "cell_type": "code",
   "execution_count": null,
   "metadata": {
    "collapsed": true
   },
   "outputs": [],
   "source": []
  },
  {
   "cell_type": "markdown",
   "metadata": {},
   "source": [
    "* 但有很多问题的正样本数量就是很少\n",
    "    * 金融领域，个人信贷违约\n",
    "<img src='LendingClub.png',width=600>\n",
    "\n",
    "    * 订阅服务的客户流失(custom churn rate)：对于中国电信，NetFlix, Hulu这样的公司，准确预测客户流失特别重要\n",
    "<img src='netflix.png',width=600>\n",
    "\n",
    "    * 罕见疾病\n",
    "    \n"
   ]
  },
  {
   "cell_type": "markdown",
   "metadata": {},
   "source": [
    "### 如何应对imbalanced datasets?\n",
    "0. 使用合适的衡量方式\n",
    "    * F1 \n",
    "1. 重新采样(resampling)\n",
    "    * random under-sampling\n",
    "        * 原有分布：负样本980，正样本20\n",
    "        * under-sampling后：负样本98,正样本20\n",
    "        * 优点：\n",
    "            * 提升运算效率，减少运算时间\n",
    "        * 缺点：\n",
    "            * 有可能丢失重要的信息\n",
    "            * 对总体的估计可能是有偏差的\n",
    "    * random over-sampling\n",
    "        * 原有分布：负样本980，正样本20\n",
    "        * over-sampling后：负样本980，正样本500\n",
    "        * 优点：\n",
    "            * 保留了所有有用信息\n",
    "        * 缺点：\n",
    "            * 有可能overfiting，过拟合\n",
    "    * 基于cluster 的重新采样（先用聚类方法找出子类）\n",
    "        * 原有分布：负样本3类：每类数量 200，400，380，正样本两类：每类数量 13，7\n",
    "        * 重新采样后：负样本3类：数量   300，300，300，正样本两类：每类数量 150，150\n",
    "        * 优点：\n",
    "            * 既解决不同类的样本不均等，又解决同类中子类间的样本不均等\n",
    "        * 缺点：\n",
    "            * 有可能过拟合\n",
    "    * 合成数据 <span style=\"color:blue\">SMOTE</span>\n",
    "        * 原有分布：负样本980，正样本20\n",
    "        * 合成数据后后：负样本980，正样本500 （非重复采样，而是生成正样本数据））\n",
    "<img src='./smote.png',width=500>\n",
    "        * 优点：\n",
    "            * 保留负样本所有信息\n",
    "            * 减缓过拟合\n",
    "        * 缺点：\n",
    "            * SMOTE生成的数据可能引入更多的噪音\n",
    "            * 对高维的数据效果不好\n",
    "           \n",
    "2. 集成算法\n",
    "    "
   ]
  },
  {
   "cell_type": "code",
   "execution_count": null,
   "metadata": {
    "collapsed": true
   },
   "outputs": [],
   "source": []
  },
  {
   "cell_type": "markdown",
   "metadata": {},
   "source": [
    "### 安装imbalanced-learn\n",
    "> pip install -U imbalanced-learn\n",
    "\n",
    "\n",
    "[参考资料](http://contrib.scikit-learn.org/imbalanced-learn/stable/auto_examples/index.html)"
   ]
  },
  {
   "cell_type": "markdown",
   "metadata": {},
   "source": [
    "### 例1. 明确按比例resampling, 调整sample数量\n",
    "> make_imbalance(X,y,ratio)"
   ]
  },
  {
   "cell_type": "code",
   "execution_count": 55,
   "metadata": {},
   "outputs": [
    {
     "name": "stdout",
     "output_type": "stream",
     "text": [
      "Automatically created module for IPython interactive environment\n"
     ]
    }
   ],
   "source": [
    "from collections import Counter # 计数器\n",
    "import matplotlib.pyplot as plt # 绘图工具包\n",
    "from sklearn.datasets import load_iris # 经典数据\n",
    "from imblearn.datasets import make_imbalance # 造不均衡数据\n",
    "from imblearn.under_sampling import RandomUnderSampler # resampling\n",
    "from imblearn.over_sampling import RandomOverSampler\n",
    "%matplotlib inline\n",
    "print(__doc__)\n",
    "\n",
    "\n",
    "def plot_pie(y): # 绘图\n",
    "    target_stats = Counter(y)\n",
    "    labels = list(target_stats.keys())\n",
    "    sizes = list(target_stats.values())\n",
    "    explode = tuple([0.1] * len(target_stats))\n",
    "\n",
    "    fig, ax = plt.subplots()\n",
    "    ax.pie(sizes, explode=explode, labels=labels, shadow=True,\n",
    "           autopct='%1.1f%%')\n",
    "    ax.axis('equal')"
   ]
  },
  {
   "cell_type": "code",
   "execution_count": 39,
   "metadata": {
    "collapsed": true
   },
   "outputs": [],
   "source": [
    "#Counter(iris.target)"
   ]
  },
  {
   "cell_type": "code",
   "execution_count": 58,
   "metadata": {
    "scrolled": true
   },
   "outputs": [
    {
     "name": "stdout",
     "output_type": "stream",
     "text": [
      "Information of the original iris data set: \n",
      " Counter({0: 50, 1: 50, 2: 50})\n",
      "Information of the iris data set after making it imbalanced using a dict: \n",
      " ratio={0: 10, 1: 20, 2: 30} \n",
      " y: Counter({2: 30, 1: 20, 0: 10})\n"
     ]
    },
    {
     "data": {
      "image/png": "[encoded data removed]",
      "text/plain": [
       "<matplotlib.figure.Figure at 0x1a136abef0>"
      ]
     },
     "metadata": {},
     "output_type": "display_data"
    },
    {
     "data": {
      "image/png": "[encoded data removed]",
      "text/plain": [
       "<matplotlib.figure.Figure at 0x1a137c41d0>"
      ]
     },
     "metadata": {},
     "output_type": "display_data"
    }
   ],
   "source": [
    "iris = load_iris() # 载入数据\n",
    "\n",
    "print('Information of the original iris data set: \\n {}'.format(\n",
    "    Counter(iris.target))) #检查原始数据分布\n",
    "plot_pie(iris.target)\n",
    "\n",
    "ratio = {0: 10, 1: 20, 2: 30} # 人为改变数据分布\n",
    "X, y = make_imbalance(iris.data, iris.target, ratio=ratio)\n",
    "\n",
    "print('Information of the iris data set after making it'\n",
    "      ' imbalanced using a dict: \\n ratio={} \\n y: {}'.format(ratio,\n",
    "                                                              Counter(y)))\n",
    "plot_pie(y)"
   ]
  },
  {
   "cell_type": "code",
   "execution_count": 45,
   "metadata": {
    "scrolled": true
   },
   "outputs": [
    {
     "data": {
      "text/plain": [
       "(60, 4)"
      ]
     },
     "execution_count": 45,
     "metadata": {},
     "output_type": "execute_result"
    }
   ],
   "source": [
    "X.shape"
   ]
  },
  {
   "cell_type": "markdown",
   "metadata": {},
   "source": [
    "### 例2. 利用预设函数，自动调整sample数量\n",
    "> RandomUnderSampler(ratio=ratio, random_state = 0).fit_sample(X,y)\n",
    "\n",
    "> ratio = 'minority'\n",
    "\n",
    "> ratio = 'majority'\n",
    "\n",
    "> ratio = 'not minority'\n",
    "\n",
    "> ratio = 'all'\n",
    "\n",
    "> ratio = 'auto'"
   ]
  },
  {
   "cell_type": "code",
   "execution_count": 57,
   "metadata": {},
   "outputs": [
    {
     "name": "stdout",
     "output_type": "stream",
     "text": [
      "Information of the iris data set after balancing using \"auto\" mode:\n",
      " ratio=majority \n",
      " y: Counter({1: 20, 0: 10, 2: 10})\n"
     ]
    },
    {
     "data": {
      "image/png": "[encoded data removed]",
      "text/plain": [
       "<matplotlib.figure.Figure at 0x1a13750550>"
      ]
     },
     "metadata": {},
     "output_type": "display_data"
    }
   ],
   "source": [
    "ratio = 'majority' \n",
    "X_res, y_res = RandomUnderSampler(ratio=ratio, random_state=0).fit_sample(X, y)\n",
    "\n",
    "print('Information of the iris data set after balancing using \"auto\"'\n",
    "      ' mode:\\n ratio={} \\n y: {}'.format(ratio, Counter(y_res)))\n",
    "plot_pie(y_res)"
   ]
  },
  {
   "cell_type": "code",
   "execution_count": null,
   "metadata": {
    "collapsed": true
   },
   "outputs": [],
   "source": []
  },
  {
   "cell_type": "markdown",
   "metadata": {},
   "source": [
    "### 例3. 利用合成数据（插值）方法，调整sample数量 (SMOTE)\n",
    "\n",
    "> from imblearn.over_sampling import SMOTE\n",
    "\n",
    "> from imblearn.combine import SMOTETomek\n"
   ]
  },
  {
   "cell_type": "code",
   "execution_count": 59,
   "metadata": {},
   "outputs": [
    {
     "name": "stdout",
     "output_type": "stream",
     "text": [
      "Automatically created module for IPython interactive environment\n"
     ]
    },
    {
     "data": {
      "image/png": "[encoded data removed]",
      "text/plain": [
       "<matplotlib.figure.Figure at 0x110833668>"
      ]
     },
     "metadata": {},
     "output_type": "display_data"
    }
   ],
   "source": [
    "import matplotlib.pyplot as plt\n",
    "from sklearn.datasets import make_classification\n",
    "from sklearn.decomposition import PCA\n",
    "\n",
    "from imblearn.combine import SMOTETomek\n",
    "\n",
    "print(__doc__)\n",
    "\n",
    "# Generate the dataset\n",
    "X, y = make_classification(n_classes=2, class_sep=2, weights=[0.1, 0.9],\n",
    "                           n_informative=3, n_redundant=1, flip_y=0,\n",
    "                           n_features=20, n_clusters_per_class=1,\n",
    "                           n_samples=100, random_state=10)\n",
    "\n",
    "# Instanciate a PCA object for the sake of easy visualisation\n",
    "pca = PCA(n_components=2)\n",
    "# Fit and transform x to visualise inside a 2D feature space\n",
    "X_vis = pca.fit_transform(X)\n",
    "\n",
    "# Apply SMOTE + Tomek links\n",
    "sm = SMOTETomek()\n",
    "X_resampled, y_resampled = sm.fit_sample(X, y)\n",
    "X_res_vis = pca.transform(X_resampled)\n",
    "\n",
    "# Two subplots, unpack the axes array immediately\n",
    "f, (ax1, ax2) = plt.subplots(1, 2)\n",
    "\n",
    "c0 = ax1.scatter(X_vis[y == 0, 0], X_vis[y == 0, 1], label=\"Class #0\",\n",
    "                 alpha=0.5)\n",
    "c1 = ax1.scatter(X_vis[y == 1, 0], X_vis[y == 1, 1], label=\"Class #1\",\n",
    "                 alpha=0.5)\n",
    "ax1.set_title('Original set')\n",
    "\n",
    "ax2.scatter(X_res_vis[y_resampled == 0, 0], X_res_vis[y_resampled == 0, 1],\n",
    "            label=\"Class #0\", alpha=0.5)\n",
    "ax2.scatter(X_res_vis[y_resampled == 1, 0], X_res_vis[y_resampled == 1, 1],\n",
    "            label=\"Class #1\", alpha=0.5)\n",
    "ax2.set_title('SMOTE + Tomek')\n",
    "\n",
    "# make nice plotting\n",
    "for ax in (ax1, ax2):\n",
    "    ax.spines['top'].set_visible(False)\n",
    "    ax.spines['right'].set_visible(False)\n",
    "    ax.get_xaxis().tick_bottom()\n",
    "    ax.get_yaxis().tick_left()\n",
    "    ax.spines['left'].set_position(('outward', 10))\n",
    "    ax.spines['bottom'].set_position(('outward', 10))\n",
    "    ax.set_xlim([-6, 8])\n",
    "    ax.set_ylim([-6, 6])\n",
    "\n",
    "plt.figlegend((c0, c1), ('Class #0', 'Class #1'), loc='lower center',\n",
    "              ncol=2, labelspacing=0.)\n",
    "plt.tight_layout(pad=3)\n",
    "plt.show()"
   ]
  },
  {
   "cell_type": "markdown",
   "metadata": {},
   "source": [
    "#### what is Tomek?\n",
    "\n",
    "<img src=\"Tomek_link.png\",width=400>"
   ]
  },
  {
   "cell_type": "markdown",
   "metadata": {},
   "source": [
    "### 例4. 效果怎样？\n"
   ]
  },
  {
   "cell_type": "code",
   "execution_count": 1,
   "metadata": {},
   "outputs": [
    {
     "name": "stdout",
     "output_type": "stream",
     "text": [
      "Automatically created module for IPython interactive environment\n"
     ]
    }
   ],
   "source": [
    "from collections import Counter\n",
    "\n",
    "from sklearn.datasets import fetch_20newsgroups\n",
    "from sklearn.feature_extraction.text import TfidfVectorizer\n",
    "from sklearn.naive_bayes import MultinomialNB\n",
    "from sklearn.pipeline import make_pipeline\n",
    "\n",
    "from imblearn.under_sampling import RandomUnderSampler\n",
    "from imblearn.pipeline import make_pipeline as make_pipeline_imb\n",
    "from imblearn.metrics import classification_report_imbalanced\n",
    "\n",
    "print(__doc__)"
   ]
  },
  {
   "cell_type": "code",
   "execution_count": 2,
   "metadata": {},
   "outputs": [
    {
     "name": "stderr",
     "output_type": "stream",
     "text": [
      "Downloading 20news dataset. This may take a few minutes.\n",
      "Downloading dataset from https://ndownloader.figshare.com/files/5975967 (14 MB)\n"
     ]
    },
    {
     "name": "stdout",
     "output_type": "stream",
     "text": [
      "Training class distributions summary: Counter({2: 593, 1: 584, 0: 480, 3: 377})\n",
      "Test class distributions summary: Counter({2: 394, 1: 389, 0: 319, 3: 251})\n"
     ]
    }
   ],
   "source": [
    "categories = ['alt.atheism', 'talk.religion.misc',\n",
    "              'comp.graphics', 'sci.space']\n",
    "newsgroups_train = fetch_20newsgroups(subset='train',\n",
    "                                      categories=categories)\n",
    "newsgroups_test = fetch_20newsgroups(subset='test',\n",
    "                                     categories=categories)\n",
    "\n",
    "X_train = newsgroups_train.data\n",
    "X_test = newsgroups_test.data\n",
    "\n",
    "y_train = newsgroups_train.target\n",
    "y_test = newsgroups_test.target\n",
    "\n",
    "print('Training class distributions summary: {}'.format(Counter(y_train)))\n",
    "print('Test class distributions summary: {}'.format(Counter(y_test)))"
   ]
  },
  {
   "cell_type": "code",
   "execution_count": 3,
   "metadata": {
    "collapsed": true
   },
   "outputs": [],
   "source": [
    "import pickle\n",
    "\n",
    "# 把数据存在pickle中\n",
    "with open('newsgroups_train.pickle','wb') as handle:\n",
    "    pickle.dump(newsgroups_train,handle)\n",
    "\n",
    "with open('newsgroups_test.pickle','wb') as handle:\n",
    "    pickle.dump(newsgroups_test,handle)\n",
    "    \n",
    "# 读数据\n",
    "with open('newsgroups_train.pickle','rb') as handle:\n",
    "    newsgroups_train = pickle.load(handle)\n",
    "\n",
    "with open('newsgroups_test.pickle','rb') as handle:\n",
    "    newsgroups_test = pickle.load(handle)\n",
    "    "
   ]
  },
  {
   "cell_type": "markdown",
   "metadata": {},
   "source": [
    "* 不用balanced sample的结果"
   ]
  },
  {
   "cell_type": "code",
   "execution_count": 4,
   "metadata": {},
   "outputs": [
    {
     "name": "stdout",
     "output_type": "stream",
     "text": [
      "                   pre       rec       spe        f1       geo       iba       sup\n",
      "\n",
      "          0       0.67      0.94      0.86      0.79      0.81      0.64       319\n",
      "          1       0.96      0.92      0.99      0.94      0.97      0.93       389\n",
      "          2       0.87      0.98      0.94      0.92      0.93      0.85       394\n",
      "          3       0.97      0.36      1.00      0.52      0.92      0.85       251\n",
      "\n",
      "avg / total       0.87      0.84      0.94      0.82      0.91      0.82      1353\n",
      "\n"
     ]
    }
   ],
   "source": [
    "pipe = make_pipeline(TfidfVectorizer(), \n",
    "                     MultinomialNB())\n",
    "pipe.fit(X_train, y_train)\n",
    "y_pred = pipe.predict(X_test)\n",
    "\n",
    "print(classification_report_imbalanced(y_test, y_pred))"
   ]
  },
  {
   "cell_type": "markdown",
   "metadata": {},
   "source": [
    "* 用了balanced sample的结果"
   ]
  },
  {
   "cell_type": "code",
   "execution_count": 5,
   "metadata": {
    "collapsed": true
   },
   "outputs": [],
   "source": [
    "pipe = make_pipeline_imb(TfidfVectorizer(),\n",
    "                         RandomUnderSampler(),\n",
    "                         MultinomialNB())\n",
    "\n",
    "pipe.fit(X_train, y_train)\n",
    "y_pred = pipe.predict(X_test)\n"
   ]
  },
  {
   "cell_type": "code",
   "execution_count": 6,
   "metadata": {},
   "outputs": [
    {
     "name": "stdout",
     "output_type": "stream",
     "text": [
      "                   pre       rec       spe        f1       geo       iba       sup\n",
      "\n",
      "          0       0.69      0.89      0.88      0.78      0.82      0.65       319\n",
      "          1       0.97      0.85      0.99      0.90      0.95      0.91       389\n",
      "          2       0.95      0.88      0.98      0.91      0.95      0.90       394\n",
      "          3       0.77      0.73      0.95      0.75      0.85      0.71       251\n",
      "\n",
      "avg / total       0.86      0.84      0.95      0.85      0.90      0.81      1353\n",
      "\n"
     ]
    }
   ],
   "source": [
    "print(classification_report_imbalanced(y_test, y_pred))\n"
   ]
  },
  {
   "cell_type": "code",
   "execution_count": null,
   "metadata": {
    "collapsed": true
   },
   "outputs": [],
   "source": []
  },
  {
   "cell_type": "code",
   "execution_count": null,
   "metadata": {
    "collapsed": true
   },
   "outputs": [],
   "source": []
  }
 ],
 "metadata": {
  "kernelspec": {
   "display_name": "Python 3",
   "language": "python",
   "name": "python3"
  },
  "language_info": {
   "codemirror_mode": {
    "name": "ipython",
    "version": 3
   },
   "file_extension": ".py",
   "mimetype": "text/x-python",
   "name": "python",
   "nbconvert_exporter": "python",
   "pygments_lexer": "ipython3",
   "version": "3.7.3"
  }
 },
 "nbformat": 4,
 "nbformat_minor": 2
}
