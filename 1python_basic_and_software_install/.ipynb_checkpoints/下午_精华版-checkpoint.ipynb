{
 "cells": [
  {
   "cell_type": "markdown",
   "metadata": {},
   "source": [
    "# 学习方法：好好上网，文献与代码管理工具\n",
    "1. 好好上网\n",
    "2. Mendeley\n",
    "3. github\n",
    "\n",
    "# 统计基础\n",
    "\n",
    "1. 均值\n",
    "2. 方差\n",
    "3. 大数定理\n",
    "4. 中心极限定理\n",
    "5. 假设检验\n",
    "6. p-value定义"
   ]
  },
  {
   "cell_type": "code",
   "execution_count": null,
   "metadata": {
    "collapsed": true
   },
   "outputs": [],
   "source": []
  },
  {
   "cell_type": "code",
   "execution_count": null,
   "metadata": {
    "collapsed": true
   },
   "outputs": [],
   "source": []
  },
  {
   "cell_type": "markdown",
   "metadata": {},
   "source": [
    "## 1. 好好上网，好好学习，好好提问"
   ]
  },
  {
   "cell_type": "markdown",
   "metadata": {},
   "source": [
    "查文献\n",
    "\n",
    "问问题：\n",
    "* 用什么工具上网？\n",
    "* 用什么工具搜索？为什么学会上网很重要，尤其在学习深度学习的过程中\n",
    "* [stackoverflow](https://stackoverflow.com/questions/28312534/graphvizs-executables-are-not-found-python-3-4)\n",
    "* 知乎\n",
    "* csdn，比如说[支持向量机的三重境界](http://blog.csdn.net/v_july_v/article/details/7624837)"
   ]
  },
  {
   "cell_type": "code",
   "execution_count": null,
   "metadata": {
    "collapsed": true
   },
   "outputs": [],
   "source": []
  },
  {
   "cell_type": "code",
   "execution_count": null,
   "metadata": {
    "collapsed": true
   },
   "outputs": [],
   "source": []
  },
  {
   "cell_type": "markdown",
   "metadata": {},
   "source": [
    "## 2. Mendeley"
   ]
  },
  {
   "cell_type": "markdown",
   "metadata": {},
   "source": [
    "学习资源几类 **(每一个层次都需要动手做实践)**\n",
    "\n",
    "* 视频\n",
    "    * 万门，网易云课堂，[coursera](https://www.coursera.org/), Udacity\n",
    "* 教科书\n",
    "    * 周志华老师《机器学习》\n",
    "    * Ian Goodfellow 《深度学习》\n",
    "    * W. Mckinney 《Python for data analysis》\n",
    "* paper论文或者小章节 （理论基础较好者，在有志学习深度学习以及人工智能时，应多读paper, 比如说)\n",
    "    * Sabour, S., Frosst, N., & Hinton, G. E. (2017). Dynamic Routing Between Capsules, (Nips). Retrieved from http://arxiv.org/abs/1710.09829\n",
    "    * LeCun, Y. (n.d.). Gradient-based learning applied to document. https://doi.org/10.1109/5.726791\n",
    "    * Covington, P., Adams, J., & Sargin, E. (2016). Deep Neural Networks for YouTube Recommendations. Proceedings of the 10th ACM Conference on Recommender Systems - RecSys ’16, 191–198. https://doi.org/10.1145/2959100.2959190\n",
    "    * Ng, A. (2012). 8. The EM Algorithm. Machine Learning, 1(X), 139–172. https://doi.org/10.1007/978-3-642-21551-3_6"
   ]
  },
  {
   "cell_type": "markdown",
   "metadata": {},
   "source": [
    "<img src='./libs.png',width=400>"
   ]
  },
  {
   "cell_type": "code",
   "execution_count": null,
   "metadata": {
    "collapsed": true
   },
   "outputs": [],
   "source": []
  },
  {
   "cell_type": "code",
   "execution_count": null,
   "metadata": {
    "collapsed": true
   },
   "outputs": [],
   "source": []
  },
  {
   "cell_type": "markdown",
   "metadata": {},
   "source": [
    "![lalal](./问题来了.gif)"
   ]
  },
  {
   "cell_type": "markdown",
   "metadata": {},
   "source": [
    "** 这么<span style=\"color:blue\">多</span>文件，如何管理？**\n",
    "\n",
    "试试[Mendeley](https://www.mendeley.com/)"
   ]
  },
  {
   "cell_type": "markdown",
   "metadata": {},
   "source": [
    "<img src='./Mendeley.png',width=400>"
   ]
  },
  {
   "cell_type": "markdown",
   "metadata": {},
   "source": [
    "<img src='./Mendeley_user.png',width=400>"
   ]
  },
  {
   "cell_type": "code",
   "execution_count": null,
   "metadata": {
    "collapsed": true
   },
   "outputs": [],
   "source": []
  },
  {
   "cell_type": "code",
   "execution_count": null,
   "metadata": {
    "collapsed": true
   },
   "outputs": [],
   "source": []
  },
  {
   "cell_type": "markdown",
   "metadata": {},
   "source": [
    "## 3. Github \n",
    "![github](github-logo.png)"
   ]
  },
  {
   "cell_type": "markdown",
   "metadata": {},
   "source": [
    "**Github**是程序员必备工具，作为版本控制(version control)和协同合作的利器，让人爱不释手。\n",
    "\n",
    "* 几个概念：\n",
    "    * 缓存区\n",
    "    * 代码库\n",
    "    * 本地\n",
    "    * 远端\n",
    "\n",
    "\n",
    "1. 安装github for windows, 注册账户\n",
    "2. 基本命令\n",
    "    * git init, 建一个新的repository\n",
    "    * git clone 克隆一个repository\n",
    "    * git add 加入新的内容到缓存区\n",
    "    * git commit 实际提交改动\n",
    "    * git push   推送改动到远端\n",
    "    * git checkout -b 做一个分支branch\n",
    "    * git pull   获取并合并远端的版本 （fetch+merge)\n",
    "    * git merge  合并其他版本, 遇到冲突怎么办？\n",
    "    * git log 查看记录\n",
    "    \n",
    "[参考资料](https://guides.github.com/)"
   ]
  },
  {
   "cell_type": "markdown",
   "metadata": {},
   "source": [
    "几个名词：工作区(workspace)，暂存区(index)，代码库(Repository)，远端(Remote)"
   ]
  },
  {
   "cell_type": "markdown",
   "metadata": {},
   "source": [
    "<img src='git.jpg',width=600>"
   ]
  },
  {
   "cell_type": "markdown",
   "metadata": {},
   "source": [
    "### 看看github的workflow"
   ]
  },
  {
   "cell_type": "markdown",
   "metadata": {},
   "source": [
    "<img src='./createbranch.png',width=600>"
   ]
  },
  {
   "cell_type": "markdown",
   "metadata": {},
   "source": [
    "1. 在主干master之外，建立新的branch\n",
    "2. 在本地修改，提交到暂存区\n",
    "3. 提交pull requests\n",
    "4. 群组讨论，进一步修改\n",
    "5. merge到master上面\n"
   ]
  },
  {
   "cell_type": "code",
   "execution_count": null,
   "metadata": {
    "collapsed": true
   },
   "outputs": [],
   "source": []
  },
  {
   "cell_type": "code",
   "execution_count": null,
   "metadata": {
    "collapsed": true
   },
   "outputs": [],
   "source": []
  },
  {
   "cell_type": "markdown",
   "metadata": {},
   "source": [
    "### 上手练练\n",
    "\n",
    "[参考](http://product.hubspot.com/blog/git-and-github-tutorial-for-beginners)\n",
    "\n",
    "#### Step1. 建立新的repository (本机)\n",
    "1.1 <span style=\"color:blue\">本机建立repository: 在命令行中新建一个文件夹，进入文件夹后，使用git init进行初始化<span>\n",
    "\n",
    "1.2 <span style=\"color:blue\">添加一点文字文档内容，对本文件夹进行一定改动</span>\n",
    "\n",
    "#### Step2. <span style=\"color:blue\">在远端建立repository, 并保存**远端地址**</span>\n",
    "#### Step3. 保存远端地址, 并在本地的command line命令行工具中，添加远端地址，这样就把本地和远端链接起来了\n",
    "#### Step4. **将变动推送到主干master上**\n",
    "#### Step5. 创建新的分支branch, 同时进入该新branch\n",
    "#### Step6. 查看过去记录\n",
    "\n",
    "下面开始\n"
   ]
  },
  {
   "cell_type": "code",
   "execution_count": null,
   "metadata": {
    "collapsed": true
   },
   "outputs": [],
   "source": []
  },
  {
   "cell_type": "code",
   "execution_count": null,
   "metadata": {
    "collapsed": true
   },
   "outputs": [],
   "source": []
  },
  {
   "cell_type": "markdown",
   "metadata": {},
   "source": [
    "#### Step1. 建立新的repository (本机)"
   ]
  },
  {
   "cell_type": "markdown",
   "metadata": {},
   "source": [
    "\n",
    "* 从0开始，git init开始\n",
    "\n",
    "1.1 <span style=\"color:blue\">本机建立repository: 在命令行中新建一个文件夹，进入文件夹后，使用git init进行初始化<span>\n",
    "\n",
    "> mkdir newgame\n",
    "\n",
    "> cd newgame\n",
    "\n",
    "> git init"
   ]
  },
  {
   "cell_type": "markdown",
   "metadata": {},
   "source": [
    "<img src='./git_init.png',width=500>"
   ]
  },
  {
   "cell_type": "markdown",
   "metadata": {},
   "source": [
    "1.2 <span style=\"color:blue\">添加一点文字文档内容，对本文件夹进行一定改动</span>\n",
    "使用jupyter notebook或者sublime或者记事本，在文件夹内新建一个文档，这时对本文件夹产生了变动.\n",
    "\n",
    "检查变动，使用\n",
    "\n",
    "> git status\n",
    "\n",
    "<img src='./txt_new.png',width=500>"
   ]
  },
  {
   "cell_type": "markdown",
   "metadata": {
    "collapsed": true
   },
   "source": [
    "1.3 将改动提交到暂存去，然后再交到代码库\n",
    "> git add ./\n",
    "\n",
    "> git commit -m '第一次改动‘"
   ]
  },
  {
   "cell_type": "markdown",
   "metadata": {},
   "source": [
    "#### Step2. <span style=\"color:blue\">在远端建立repository, 并保存**远端地址**</span> （需要先注册一个账号）\n"
   ]
  },
  {
   "cell_type": "markdown",
   "metadata": {},
   "source": [
    "<img src='./remote_init.png',width=400>"
   ]
  },
  {
   "cell_type": "code",
   "execution_count": null,
   "metadata": {
    "collapsed": true
   },
   "outputs": [],
   "source": []
  },
  {
   "cell_type": "markdown",
   "metadata": {},
   "source": [
    "#### Step3. 保存远端地址, 并在本地的command line命令行工具中，添加远端地址，这样就把本地和远端链接起来了。要链接起来，还有更简单的方式，直接git clone\n",
    "\n",
    "> git remote add origin --------------------------------\n",
    "\n",
    "<img src='./remote_link.png',width=500>\n"
   ]
  },
  {
   "cell_type": "markdown",
   "metadata": {},
   "source": [
    "* 这一步有更方便的办法，克隆已有的远端 repository，连最初的git initi也不用了，直接git clone ---远端的地址=========-------\n",
    "\n",
    "<img src='./clone.png',width=500>\n"
   ]
  },
  {
   "cell_type": "code",
   "execution_count": null,
   "metadata": {
    "collapsed": true
   },
   "outputs": [],
   "source": []
  },
  {
   "cell_type": "markdown",
   "metadata": {},
   "source": [
    "\n",
    "#### Step4. **将变动推送到主干master上**\n",
    "\n",
    "> git push -u origin master"
   ]
  },
  {
   "cell_type": "markdown",
   "metadata": {},
   "source": [
    "#### Step5. 创建新的分支branch, 同时进入该新branch\n",
    "\n",
    "> git checkout -b 'newbranch'\n",
    "\n",
    "newbranch是新branch的名称，用户可以随意改动\n",
    "\n",
    "如果要改回 master 主干，使用\n",
    "\n",
    "> git checkout master\n",
    "\n"
   ]
  },
  {
   "cell_type": "markdown",
   "metadata": {},
   "source": [
    "#### Step6. 查看过去记录\n",
    "\n",
    "> git log\n",
    "\n",
    "这个是标准的查看过去记录的语句\n",
    "\n",
    "<img src='./git_log.png',width=500>\n"
   ]
  },
  {
   "cell_type": "code",
   "execution_count": null,
   "metadata": {
    "collapsed": true
   },
   "outputs": [],
   "source": []
  },
  {
   "cell_type": "markdown",
   "metadata": {
    "collapsed": true
   },
   "source": [
    "### git的功能非常多，简单介绍了这几个，在以后工作中，还会有 git merge, git fetch, git pull, 等用法"
   ]
  },
  {
   "cell_type": "code",
   "execution_count": null,
   "metadata": {
    "collapsed": true
   },
   "outputs": [],
   "source": []
  },
  {
   "cell_type": "code",
   "execution_count": null,
   "metadata": {
    "collapsed": true
   },
   "outputs": [],
   "source": []
  },
  {
   "cell_type": "code",
   "execution_count": null,
   "metadata": {
    "collapsed": true
   },
   "outputs": [],
   "source": []
  },
  {
   "cell_type": "markdown",
   "metadata": {},
   "source": [
    "# 统计基础\n",
    "\n",
    "\n",
    "1. 均值\n",
    "2. 方差\n",
    "3. 大数定理\n",
    "4. 中心极限定理\n",
    "5. 假设检验\n",
    "6. p-value定义"
   ]
  },
  {
   "cell_type": "markdown",
   "metadata": {},
   "source": [
    "> 基础的均值与方差，在讨论回归的时候，很有意义，需要明确概念\n",
    "\n",
    "> 我们在讨论假设检验的时候，先不要引入具体的概率分布，不要想t-分布, 而是直接从原假设与备择假设上面考虑。这次听不懂没关系，我们在下周的课程中，会专门讨论假设检验，p-value的定义及其应用"
   ]
  },
  {
   "cell_type": "markdown",
   "metadata": {},
   "source": [
    "1.均值\n",
    "\n",
    "\\begin{equation*}\n",
    "\\bar{X}_n=\\frac{1}{n}\\left(\\sum_{k=1}^n X_k\\right)\n",
    "\\end{equation*}\n",
    "\n",
    " 连续整体的期望值是\n",
    "\n",
    "\\begin{equation*}\n",
    "\\mu = E\\left(X\\right) = \\int xp(x)dx\n",
    "\\end{equation*}\n"
   ]
  },
  {
   "cell_type": "markdown",
   "metadata": {},
   "source": [
    "2.样本的方差\n",
    "\n",
    "\\begin{equation*}\n",
    "S^2 = \\frac{1}{n-1}\\sum_{i=1}^n\\left(X_i-\\bar{X}\\right)^2\n",
    "\\end{equation*}\n",
    "\n",
    "整体的方差\n",
    "\\begin{equation*}\n",
    "Var(X) = \\sigma^2 = \\int \\left(x-\\mu\\right)^2 f(x)dx\n",
    "\\end{equation*}\n",
    "\n",
    "\n",
    "\\begin{equation*}\n",
    "Var(X) = E[(X-\\mu)^2] = E(X^2) - E^2(X)\n",
    "\\end{equation*}\n",
    "\n",
    "\n"
   ]
  },
  {
   "cell_type": "markdown",
   "metadata": {},
   "source": [
    "3.大数定理 \n",
    "\n",
    "样本数量越多，则其平均就越趋近期望值\n",
    "\n",
    "\n",
    "\\begin{equation*}\n",
    "n\\rightarrow \\infty, \n",
    "\\bar{X}_n \\rightarrow \\mu\n",
    "\\end{equation*}"
   ]
  },
  {
   "cell_type": "markdown",
   "metadata": {},
   "source": [
    "4.中心极限定理\n",
    "\n",
    "中心极限定理说明，在适当的条件下，大量相互独立随机变量的均值经适当标准化后依分布收敛于正态分布。\n",
    "\n"
   ]
  },
  {
   "cell_type": "markdown",
   "metadata": {},
   "source": [
    "5.假设检验\n",
    "\n"
   ]
  },
  {
   "cell_type": "markdown",
   "metadata": {},
   "source": [
    "6.p-value\n",
    "最具争议的统计概念\n",
    "定义：在原假设成立的情况，出现观测值以及更极端情况的概率"
   ]
  },
  {
   "cell_type": "markdown",
   "metadata": {},
   "source": [
    "<img src='hypoth_testing.png',width=750>"
   ]
  },
  {
   "cell_type": "code",
   "execution_count": null,
   "metadata": {
    "collapsed": true
   },
   "outputs": [],
   "source": []
  },
  {
   "cell_type": "code",
   "execution_count": null,
   "metadata": {
    "collapsed": true
   },
   "outputs": [],
   "source": []
  }
 ],
 "metadata": {
  "kernelspec": {
   "display_name": "Python 3",
   "language": "python",
   "name": "python3"
  },
  "language_info": {
   "codemirror_mode": {
    "name": "ipython",
    "version": 3
   },
   "file_extension": ".py",
   "mimetype": "text/x-python",
   "name": "python",
   "nbconvert_exporter": "python",
   "pygments_lexer": "ipython3",
   "version": "3.6.3"
  }
 },
 "nbformat": 4,
 "nbformat_minor": 2
}
